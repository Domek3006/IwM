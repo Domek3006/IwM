{
  "nbformat": 4,
  "nbformat_minor": 0,
  "metadata": {
    "colab": {
      "name": "Tomograf.ipynb",
      "provenance": [],
      "collapsed_sections": []
    },
    "kernelspec": {
      "name": "python3",
      "display_name": "Python 3"
    },
    "language_info": {
      "name": "python"
    },
    "widgets": {
      "application/vnd.jupyter.widget-state+json": {
        "914021fbfe8d4197bbea2aa5b0419bcb": {
          "model_module": "@jupyter-widgets/controls",
          "model_name": "VBoxModel",
          "model_module_version": "1.5.0",
          "state": {
            "_dom_classes": [
              "widget-interact"
            ],
            "_model_module": "@jupyter-widgets/controls",
            "_model_module_version": "1.5.0",
            "_model_name": "VBoxModel",
            "_view_count": null,
            "_view_module": "@jupyter-widgets/controls",
            "_view_module_version": "1.5.0",
            "_view_name": "VBoxView",
            "box_style": "",
            "children": [
              "IPY_MODEL_c07184f33b4d41838868957f0106e2f6",
              "IPY_MODEL_171ac8dfdab9425b898107257ed437f5",
              "IPY_MODEL_287a70f9e8f3460a96310bd56fca0857",
              "IPY_MODEL_409045183dbb458ca977fa380471f221"
            ],
            "layout": "IPY_MODEL_3e6b76ae679b43f4880f242115c4d44f"
          }
        },
        "c07184f33b4d41838868957f0106e2f6": {
          "model_module": "@jupyter-widgets/controls",
          "model_name": "IntSliderModel",
          "model_module_version": "1.5.0",
          "state": {
            "_dom_classes": [],
            "_model_module": "@jupyter-widgets/controls",
            "_model_module_version": "1.5.0",
            "_model_name": "IntSliderModel",
            "_view_count": null,
            "_view_module": "@jupyter-widgets/controls",
            "_view_module_version": "1.5.0",
            "_view_name": "IntSliderView",
            "continuous_update": true,
            "description": "scans",
            "description_tooltip": null,
            "disabled": false,
            "layout": "IPY_MODEL_63a4db5f3ddf405b8911d20f3de7a8d7",
            "max": 720,
            "min": 90,
            "orientation": "horizontal",
            "readout": true,
            "readout_format": "d",
            "step": 90,
            "style": "IPY_MODEL_79e43c21db17405e89697bad6ce86bcb",
            "value": 450
          }
        },
        "171ac8dfdab9425b898107257ed437f5": {
          "model_module": "@jupyter-widgets/controls",
          "model_name": "IntSliderModel",
          "model_module_version": "1.5.0",
          "state": {
            "_dom_classes": [],
            "_model_module": "@jupyter-widgets/controls",
            "_model_module_version": "1.5.0",
            "_model_name": "IntSliderModel",
            "_view_count": null,
            "_view_module": "@jupyter-widgets/controls",
            "_view_module_version": "1.5.0",
            "_view_name": "IntSliderView",
            "continuous_update": true,
            "description": "detectors",
            "description_tooltip": null,
            "disabled": false,
            "layout": "IPY_MODEL_7362dcfc2ecd4592b449ac49d2671dfa",
            "max": 720,
            "min": 90,
            "orientation": "horizontal",
            "readout": true,
            "readout_format": "d",
            "step": 90,
            "style": "IPY_MODEL_b41ce9e43453496a800c485a3283784b",
            "value": 720
          }
        },
        "287a70f9e8f3460a96310bd56fca0857": {
          "model_module": "@jupyter-widgets/controls",
          "model_name": "IntSliderModel",
          "model_module_version": "1.5.0",
          "state": {
            "_dom_classes": [],
            "_model_module": "@jupyter-widgets/controls",
            "_model_module_version": "1.5.0",
            "_model_name": "IntSliderModel",
            "_view_count": null,
            "_view_module": "@jupyter-widgets/controls",
            "_view_module_version": "1.5.0",
            "_view_name": "IntSliderView",
            "continuous_update": true,
            "description": "angle",
            "description_tooltip": null,
            "disabled": false,
            "layout": "IPY_MODEL_c7b10e27ee5b48fe96b0438ab2aa57cf",
            "max": 270,
            "min": 45,
            "orientation": "horizontal",
            "readout": true,
            "readout_format": "d",
            "step": 45,
            "style": "IPY_MODEL_6b0a385195db47dd81d2099443763681",
            "value": 180
          }
        },
        "409045183dbb458ca977fa380471f221": {
          "model_module": "@jupyter-widgets/output",
          "model_name": "OutputModel",
          "model_module_version": "1.0.0",
          "state": {
            "_dom_classes": [],
            "_model_module": "@jupyter-widgets/output",
            "_model_module_version": "1.0.0",
            "_model_name": "OutputModel",
            "_view_count": null,
            "_view_module": "@jupyter-widgets/output",
            "_view_module_version": "1.0.0",
            "_view_name": "OutputView",
            "layout": "IPY_MODEL_ff868a060ff14990a6e68d32c7e5003b",
            "msg_id": "",
            "outputs": []
          }
        },
        "3e6b76ae679b43f4880f242115c4d44f": {
          "model_module": "@jupyter-widgets/base",
          "model_name": "LayoutModel",
          "model_module_version": "1.2.0",
          "state": {
            "_model_module": "@jupyter-widgets/base",
            "_model_module_version": "1.2.0",
            "_model_name": "LayoutModel",
            "_view_count": null,
            "_view_module": "@jupyter-widgets/base",
            "_view_module_version": "1.2.0",
            "_view_name": "LayoutView",
            "align_content": null,
            "align_items": null,
            "align_self": null,
            "border": null,
            "bottom": null,
            "display": null,
            "flex": null,
            "flex_flow": null,
            "grid_area": null,
            "grid_auto_columns": null,
            "grid_auto_flow": null,
            "grid_auto_rows": null,
            "grid_column": null,
            "grid_gap": null,
            "grid_row": null,
            "grid_template_areas": null,
            "grid_template_columns": null,
            "grid_template_rows": null,
            "height": null,
            "justify_content": null,
            "justify_items": null,
            "left": null,
            "margin": null,
            "max_height": null,
            "max_width": null,
            "min_height": null,
            "min_width": null,
            "object_fit": null,
            "object_position": null,
            "order": null,
            "overflow": null,
            "overflow_x": null,
            "overflow_y": null,
            "padding": null,
            "right": null,
            "top": null,
            "visibility": null,
            "width": null
          }
        },
        "63a4db5f3ddf405b8911d20f3de7a8d7": {
          "model_module": "@jupyter-widgets/base",
          "model_name": "LayoutModel",
          "model_module_version": "1.2.0",
          "state": {
            "_model_module": "@jupyter-widgets/base",
            "_model_module_version": "1.2.0",
            "_model_name": "LayoutModel",
            "_view_count": null,
            "_view_module": "@jupyter-widgets/base",
            "_view_module_version": "1.2.0",
            "_view_name": "LayoutView",
            "align_content": null,
            "align_items": null,
            "align_self": null,
            "border": null,
            "bottom": null,
            "display": null,
            "flex": null,
            "flex_flow": null,
            "grid_area": null,
            "grid_auto_columns": null,
            "grid_auto_flow": null,
            "grid_auto_rows": null,
            "grid_column": null,
            "grid_gap": null,
            "grid_row": null,
            "grid_template_areas": null,
            "grid_template_columns": null,
            "grid_template_rows": null,
            "height": null,
            "justify_content": null,
            "justify_items": null,
            "left": null,
            "margin": null,
            "max_height": null,
            "max_width": null,
            "min_height": null,
            "min_width": null,
            "object_fit": null,
            "object_position": null,
            "order": null,
            "overflow": null,
            "overflow_x": null,
            "overflow_y": null,
            "padding": null,
            "right": null,
            "top": null,
            "visibility": null,
            "width": null
          }
        },
        "79e43c21db17405e89697bad6ce86bcb": {
          "model_module": "@jupyter-widgets/controls",
          "model_name": "SliderStyleModel",
          "model_module_version": "1.5.0",
          "state": {
            "_model_module": "@jupyter-widgets/controls",
            "_model_module_version": "1.5.0",
            "_model_name": "SliderStyleModel",
            "_view_count": null,
            "_view_module": "@jupyter-widgets/base",
            "_view_module_version": "1.2.0",
            "_view_name": "StyleView",
            "description_width": "",
            "handle_color": null
          }
        },
        "7362dcfc2ecd4592b449ac49d2671dfa": {
          "model_module": "@jupyter-widgets/base",
          "model_name": "LayoutModel",
          "model_module_version": "1.2.0",
          "state": {
            "_model_module": "@jupyter-widgets/base",
            "_model_module_version": "1.2.0",
            "_model_name": "LayoutModel",
            "_view_count": null,
            "_view_module": "@jupyter-widgets/base",
            "_view_module_version": "1.2.0",
            "_view_name": "LayoutView",
            "align_content": null,
            "align_items": null,
            "align_self": null,
            "border": null,
            "bottom": null,
            "display": null,
            "flex": null,
            "flex_flow": null,
            "grid_area": null,
            "grid_auto_columns": null,
            "grid_auto_flow": null,
            "grid_auto_rows": null,
            "grid_column": null,
            "grid_gap": null,
            "grid_row": null,
            "grid_template_areas": null,
            "grid_template_columns": null,
            "grid_template_rows": null,
            "height": null,
            "justify_content": null,
            "justify_items": null,
            "left": null,
            "margin": null,
            "max_height": null,
            "max_width": null,
            "min_height": null,
            "min_width": null,
            "object_fit": null,
            "object_position": null,
            "order": null,
            "overflow": null,
            "overflow_x": null,
            "overflow_y": null,
            "padding": null,
            "right": null,
            "top": null,
            "visibility": null,
            "width": null
          }
        },
        "b41ce9e43453496a800c485a3283784b": {
          "model_module": "@jupyter-widgets/controls",
          "model_name": "SliderStyleModel",
          "model_module_version": "1.5.0",
          "state": {
            "_model_module": "@jupyter-widgets/controls",
            "_model_module_version": "1.5.0",
            "_model_name": "SliderStyleModel",
            "_view_count": null,
            "_view_module": "@jupyter-widgets/base",
            "_view_module_version": "1.2.0",
            "_view_name": "StyleView",
            "description_width": "",
            "handle_color": null
          }
        },
        "c7b10e27ee5b48fe96b0438ab2aa57cf": {
          "model_module": "@jupyter-widgets/base",
          "model_name": "LayoutModel",
          "model_module_version": "1.2.0",
          "state": {
            "_model_module": "@jupyter-widgets/base",
            "_model_module_version": "1.2.0",
            "_model_name": "LayoutModel",
            "_view_count": null,
            "_view_module": "@jupyter-widgets/base",
            "_view_module_version": "1.2.0",
            "_view_name": "LayoutView",
            "align_content": null,
            "align_items": null,
            "align_self": null,
            "border": null,
            "bottom": null,
            "display": null,
            "flex": null,
            "flex_flow": null,
            "grid_area": null,
            "grid_auto_columns": null,
            "grid_auto_flow": null,
            "grid_auto_rows": null,
            "grid_column": null,
            "grid_gap": null,
            "grid_row": null,
            "grid_template_areas": null,
            "grid_template_columns": null,
            "grid_template_rows": null,
            "height": null,
            "justify_content": null,
            "justify_items": null,
            "left": null,
            "margin": null,
            "max_height": null,
            "max_width": null,
            "min_height": null,
            "min_width": null,
            "object_fit": null,
            "object_position": null,
            "order": null,
            "overflow": null,
            "overflow_x": null,
            "overflow_y": null,
            "padding": null,
            "right": null,
            "top": null,
            "visibility": null,
            "width": null
          }
        },
        "6b0a385195db47dd81d2099443763681": {
          "model_module": "@jupyter-widgets/controls",
          "model_name": "SliderStyleModel",
          "model_module_version": "1.5.0",
          "state": {
            "_model_module": "@jupyter-widgets/controls",
            "_model_module_version": "1.5.0",
            "_model_name": "SliderStyleModel",
            "_view_count": null,
            "_view_module": "@jupyter-widgets/base",
            "_view_module_version": "1.2.0",
            "_view_name": "StyleView",
            "description_width": "",
            "handle_color": null
          }
        },
        "ff868a060ff14990a6e68d32c7e5003b": {
          "model_module": "@jupyter-widgets/base",
          "model_name": "LayoutModel",
          "model_module_version": "1.2.0",
          "state": {
            "_model_module": "@jupyter-widgets/base",
            "_model_module_version": "1.2.0",
            "_model_name": "LayoutModel",
            "_view_count": null,
            "_view_module": "@jupyter-widgets/base",
            "_view_module_version": "1.2.0",
            "_view_name": "LayoutView",
            "align_content": null,
            "align_items": null,
            "align_self": null,
            "border": null,
            "bottom": null,
            "display": null,
            "flex": null,
            "flex_flow": null,
            "grid_area": null,
            "grid_auto_columns": null,
            "grid_auto_flow": null,
            "grid_auto_rows": null,
            "grid_column": null,
            "grid_gap": null,
            "grid_row": null,
            "grid_template_areas": null,
            "grid_template_columns": null,
            "grid_template_rows": null,
            "height": null,
            "justify_content": null,
            "justify_items": null,
            "left": null,
            "margin": null,
            "max_height": null,
            "max_width": null,
            "min_height": null,
            "min_width": null,
            "object_fit": null,
            "object_position": null,
            "order": null,
            "overflow": null,
            "overflow_x": null,
            "overflow_y": null,
            "padding": null,
            "right": null,
            "top": null,
            "visibility": null,
            "width": null
          }
        },
        "5388d2e51d864105b6cf5298c61601dd": {
          "model_module": "@jupyter-widgets/controls",
          "model_name": "VBoxModel",
          "model_module_version": "1.5.0",
          "state": {
            "_dom_classes": [
              "widget-interact"
            ],
            "_model_module": "@jupyter-widgets/controls",
            "_model_module_version": "1.5.0",
            "_model_name": "VBoxModel",
            "_view_count": null,
            "_view_module": "@jupyter-widgets/controls",
            "_view_module_version": "1.5.0",
            "_view_name": "VBoxView",
            "box_style": "",
            "children": [
              "IPY_MODEL_8123406eecf143d9bc4e633e716441db",
              "IPY_MODEL_ef0e80692c1340e7a2b000e47cd109fc"
            ],
            "layout": "IPY_MODEL_bd6cd63c46af421793d7e98e8a11f6cc"
          }
        },
        "8123406eecf143d9bc4e633e716441db": {
          "model_module": "@jupyter-widgets/controls",
          "model_name": "IntSliderModel",
          "model_module_version": "1.5.0",
          "state": {
            "_dom_classes": [],
            "_model_module": "@jupyter-widgets/controls",
            "_model_module_version": "1.5.0",
            "_model_name": "IntSliderModel",
            "_view_count": null,
            "_view_module": "@jupyter-widgets/controls",
            "_view_module_version": "1.5.0",
            "_view_name": "IntSliderView",
            "continuous_update": true,
            "description": "i",
            "description_tooltip": null,
            "disabled": false,
            "layout": "IPY_MODEL_5352ccd3845b4322b373771d5cc98edf",
            "max": 359,
            "min": 0,
            "orientation": "horizontal",
            "readout": true,
            "readout_format": "d",
            "step": 1,
            "style": "IPY_MODEL_970004f8e62c4ab5b09bf8816177d2b3",
            "value": 179
          }
        },
        "ef0e80692c1340e7a2b000e47cd109fc": {
          "model_module": "@jupyter-widgets/output",
          "model_name": "OutputModel",
          "model_module_version": "1.0.0",
          "state": {
            "_dom_classes": [],
            "_model_module": "@jupyter-widgets/output",
            "_model_module_version": "1.0.0",
            "_model_name": "OutputModel",
            "_view_count": null,
            "_view_module": "@jupyter-widgets/output",
            "_view_module_version": "1.0.0",
            "_view_name": "OutputView",
            "layout": "IPY_MODEL_ca47413f7b45471ca3ee1e8b3d162151",
            "msg_id": "",
            "outputs": [
              {
                "output_type": "display_data",
                "data": {
                  "text/plain": "<Figure size 432x288 with 1 Axes>",
                  "image/png": "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\n"
                },
                "metadata": {
                  "needs_background": "light"
                }
              }
            ]
          }
        },
        "bd6cd63c46af421793d7e98e8a11f6cc": {
          "model_module": "@jupyter-widgets/base",
          "model_name": "LayoutModel",
          "model_module_version": "1.2.0",
          "state": {
            "_model_module": "@jupyter-widgets/base",
            "_model_module_version": "1.2.0",
            "_model_name": "LayoutModel",
            "_view_count": null,
            "_view_module": "@jupyter-widgets/base",
            "_view_module_version": "1.2.0",
            "_view_name": "LayoutView",
            "align_content": null,
            "align_items": null,
            "align_self": null,
            "border": null,
            "bottom": null,
            "display": null,
            "flex": null,
            "flex_flow": null,
            "grid_area": null,
            "grid_auto_columns": null,
            "grid_auto_flow": null,
            "grid_auto_rows": null,
            "grid_column": null,
            "grid_gap": null,
            "grid_row": null,
            "grid_template_areas": null,
            "grid_template_columns": null,
            "grid_template_rows": null,
            "height": null,
            "justify_content": null,
            "justify_items": null,
            "left": null,
            "margin": null,
            "max_height": null,
            "max_width": null,
            "min_height": null,
            "min_width": null,
            "object_fit": null,
            "object_position": null,
            "order": null,
            "overflow": null,
            "overflow_x": null,
            "overflow_y": null,
            "padding": null,
            "right": null,
            "top": null,
            "visibility": null,
            "width": null
          }
        },
        "5352ccd3845b4322b373771d5cc98edf": {
          "model_module": "@jupyter-widgets/base",
          "model_name": "LayoutModel",
          "model_module_version": "1.2.0",
          "state": {
            "_model_module": "@jupyter-widgets/base",
            "_model_module_version": "1.2.0",
            "_model_name": "LayoutModel",
            "_view_count": null,
            "_view_module": "@jupyter-widgets/base",
            "_view_module_version": "1.2.0",
            "_view_name": "LayoutView",
            "align_content": null,
            "align_items": null,
            "align_self": null,
            "border": null,
            "bottom": null,
            "display": null,
            "flex": null,
            "flex_flow": null,
            "grid_area": null,
            "grid_auto_columns": null,
            "grid_auto_flow": null,
            "grid_auto_rows": null,
            "grid_column": null,
            "grid_gap": null,
            "grid_row": null,
            "grid_template_areas": null,
            "grid_template_columns": null,
            "grid_template_rows": null,
            "height": null,
            "justify_content": null,
            "justify_items": null,
            "left": null,
            "margin": null,
            "max_height": null,
            "max_width": null,
            "min_height": null,
            "min_width": null,
            "object_fit": null,
            "object_position": null,
            "order": null,
            "overflow": null,
            "overflow_x": null,
            "overflow_y": null,
            "padding": null,
            "right": null,
            "top": null,
            "visibility": null,
            "width": null
          }
        },
        "970004f8e62c4ab5b09bf8816177d2b3": {
          "model_module": "@jupyter-widgets/controls",
          "model_name": "SliderStyleModel",
          "model_module_version": "1.5.0",
          "state": {
            "_model_module": "@jupyter-widgets/controls",
            "_model_module_version": "1.5.0",
            "_model_name": "SliderStyleModel",
            "_view_count": null,
            "_view_module": "@jupyter-widgets/base",
            "_view_module_version": "1.2.0",
            "_view_name": "StyleView",
            "description_width": "",
            "handle_color": null
          }
        },
        "ca47413f7b45471ca3ee1e8b3d162151": {
          "model_module": "@jupyter-widgets/base",
          "model_name": "LayoutModel",
          "model_module_version": "1.2.0",
          "state": {
            "_model_module": "@jupyter-widgets/base",
            "_model_module_version": "1.2.0",
            "_model_name": "LayoutModel",
            "_view_count": null,
            "_view_module": "@jupyter-widgets/base",
            "_view_module_version": "1.2.0",
            "_view_name": "LayoutView",
            "align_content": null,
            "align_items": null,
            "align_self": null,
            "border": null,
            "bottom": null,
            "display": null,
            "flex": null,
            "flex_flow": null,
            "grid_area": null,
            "grid_auto_columns": null,
            "grid_auto_flow": null,
            "grid_auto_rows": null,
            "grid_column": null,
            "grid_gap": null,
            "grid_row": null,
            "grid_template_areas": null,
            "grid_template_columns": null,
            "grid_template_rows": null,
            "height": null,
            "justify_content": null,
            "justify_items": null,
            "left": null,
            "margin": null,
            "max_height": null,
            "max_width": null,
            "min_height": null,
            "min_width": null,
            "object_fit": null,
            "object_position": null,
            "order": null,
            "overflow": null,
            "overflow_x": null,
            "overflow_y": null,
            "padding": null,
            "right": null,
            "top": null,
            "visibility": null,
            "width": null
          }
        },
        "aaaf080d498f4a5baa5c048fad12f88c": {
          "model_module": "@jupyter-widgets/controls",
          "model_name": "VBoxModel",
          "model_module_version": "1.5.0",
          "state": {
            "_dom_classes": [
              "widget-interact"
            ],
            "_model_module": "@jupyter-widgets/controls",
            "_model_module_version": "1.5.0",
            "_model_name": "VBoxModel",
            "_view_count": null,
            "_view_module": "@jupyter-widgets/controls",
            "_view_module_version": "1.5.0",
            "_view_name": "VBoxView",
            "box_style": "",
            "children": [
              "IPY_MODEL_612e371bc2fa44c28b849ce8712e1f52",
              "IPY_MODEL_4fce4e967e6f4c228a91accdf077e653"
            ],
            "layout": "IPY_MODEL_cfb6cc4f33d54892976bf22f26d462be"
          }
        },
        "612e371bc2fa44c28b849ce8712e1f52": {
          "model_module": "@jupyter-widgets/controls",
          "model_name": "IntSliderModel",
          "model_module_version": "1.5.0",
          "state": {
            "_dom_classes": [],
            "_model_module": "@jupyter-widgets/controls",
            "_model_module_version": "1.5.0",
            "_model_name": "IntSliderModel",
            "_view_count": null,
            "_view_module": "@jupyter-widgets/controls",
            "_view_module_version": "1.5.0",
            "_view_name": "IntSliderView",
            "continuous_update": true,
            "description": "i",
            "description_tooltip": null,
            "disabled": false,
            "layout": "IPY_MODEL_f3d5b2c1ad404a748ea100895deedd66",
            "max": 360,
            "min": 0,
            "orientation": "horizontal",
            "readout": true,
            "readout_format": "d",
            "step": 1,
            "style": "IPY_MODEL_9bac14e6518840e38a4cb357a2251926",
            "value": 180
          }
        },
        "4fce4e967e6f4c228a91accdf077e653": {
          "model_module": "@jupyter-widgets/output",
          "model_name": "OutputModel",
          "model_module_version": "1.0.0",
          "state": {
            "_dom_classes": [],
            "_model_module": "@jupyter-widgets/output",
            "_model_module_version": "1.0.0",
            "_model_name": "OutputModel",
            "_view_count": null,
            "_view_module": "@jupyter-widgets/output",
            "_view_module_version": "1.0.0",
            "_view_name": "OutputView",
            "layout": "IPY_MODEL_7154f89d2c03403fbfe6f7c21bc51c7f",
            "msg_id": "",
            "outputs": [
              {
                "output_type": "display_data",
                "data": {
                  "text/plain": "<Figure size 432x288 with 1 Axes>",
                  "image/png": "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\n"
                },
                "metadata": {
                  "needs_background": "light"
                }
              }
            ]
          }
        },
        "cfb6cc4f33d54892976bf22f26d462be": {
          "model_module": "@jupyter-widgets/base",
          "model_name": "LayoutModel",
          "model_module_version": "1.2.0",
          "state": {
            "_model_module": "@jupyter-widgets/base",
            "_model_module_version": "1.2.0",
            "_model_name": "LayoutModel",
            "_view_count": null,
            "_view_module": "@jupyter-widgets/base",
            "_view_module_version": "1.2.0",
            "_view_name": "LayoutView",
            "align_content": null,
            "align_items": null,
            "align_self": null,
            "border": null,
            "bottom": null,
            "display": null,
            "flex": null,
            "flex_flow": null,
            "grid_area": null,
            "grid_auto_columns": null,
            "grid_auto_flow": null,
            "grid_auto_rows": null,
            "grid_column": null,
            "grid_gap": null,
            "grid_row": null,
            "grid_template_areas": null,
            "grid_template_columns": null,
            "grid_template_rows": null,
            "height": null,
            "justify_content": null,
            "justify_items": null,
            "left": null,
            "margin": null,
            "max_height": null,
            "max_width": null,
            "min_height": null,
            "min_width": null,
            "object_fit": null,
            "object_position": null,
            "order": null,
            "overflow": null,
            "overflow_x": null,
            "overflow_y": null,
            "padding": null,
            "right": null,
            "top": null,
            "visibility": null,
            "width": null
          }
        },
        "f3d5b2c1ad404a748ea100895deedd66": {
          "model_module": "@jupyter-widgets/base",
          "model_name": "LayoutModel",
          "model_module_version": "1.2.0",
          "state": {
            "_model_module": "@jupyter-widgets/base",
            "_model_module_version": "1.2.0",
            "_model_name": "LayoutModel",
            "_view_count": null,
            "_view_module": "@jupyter-widgets/base",
            "_view_module_version": "1.2.0",
            "_view_name": "LayoutView",
            "align_content": null,
            "align_items": null,
            "align_self": null,
            "border": null,
            "bottom": null,
            "display": null,
            "flex": null,
            "flex_flow": null,
            "grid_area": null,
            "grid_auto_columns": null,
            "grid_auto_flow": null,
            "grid_auto_rows": null,
            "grid_column": null,
            "grid_gap": null,
            "grid_row": null,
            "grid_template_areas": null,
            "grid_template_columns": null,
            "grid_template_rows": null,
            "height": null,
            "justify_content": null,
            "justify_items": null,
            "left": null,
            "margin": null,
            "max_height": null,
            "max_width": null,
            "min_height": null,
            "min_width": null,
            "object_fit": null,
            "object_position": null,
            "order": null,
            "overflow": null,
            "overflow_x": null,
            "overflow_y": null,
            "padding": null,
            "right": null,
            "top": null,
            "visibility": null,
            "width": null
          }
        },
        "9bac14e6518840e38a4cb357a2251926": {
          "model_module": "@jupyter-widgets/controls",
          "model_name": "SliderStyleModel",
          "model_module_version": "1.5.0",
          "state": {
            "_model_module": "@jupyter-widgets/controls",
            "_model_module_version": "1.5.0",
            "_model_name": "SliderStyleModel",
            "_view_count": null,
            "_view_module": "@jupyter-widgets/base",
            "_view_module_version": "1.2.0",
            "_view_name": "StyleView",
            "description_width": "",
            "handle_color": null
          }
        },
        "7154f89d2c03403fbfe6f7c21bc51c7f": {
          "model_module": "@jupyter-widgets/base",
          "model_name": "LayoutModel",
          "model_module_version": "1.2.0",
          "state": {
            "_model_module": "@jupyter-widgets/base",
            "_model_module_version": "1.2.0",
            "_model_name": "LayoutModel",
            "_view_count": null,
            "_view_module": "@jupyter-widgets/base",
            "_view_module_version": "1.2.0",
            "_view_name": "LayoutView",
            "align_content": null,
            "align_items": null,
            "align_self": null,
            "border": null,
            "bottom": null,
            "display": null,
            "flex": null,
            "flex_flow": null,
            "grid_area": null,
            "grid_auto_columns": null,
            "grid_auto_flow": null,
            "grid_auto_rows": null,
            "grid_column": null,
            "grid_gap": null,
            "grid_row": null,
            "grid_template_areas": null,
            "grid_template_columns": null,
            "grid_template_rows": null,
            "height": null,
            "justify_content": null,
            "justify_items": null,
            "left": null,
            "margin": null,
            "max_height": null,
            "max_width": null,
            "min_height": null,
            "min_width": null,
            "object_fit": null,
            "object_position": null,
            "order": null,
            "overflow": null,
            "overflow_x": null,
            "overflow_y": null,
            "padding": null,
            "right": null,
            "top": null,
            "visibility": null,
            "width": null
          }
        }
      }
    }
  },
  "cells": [
    {
      "cell_type": "markdown",
      "source": [
        "#Informatyka w medycynie\n",
        "\n",
        "##**Zadanie 1 - Tomograf**\n",
        "\n",
        "Dominik Pawłowski 145289 \\\\\n",
        "Bartłomiej Kowalewski 145204"
      ],
      "metadata": {
        "id": "SxZiqn7PLyNU"
      }
    },
    {
      "cell_type": "code",
      "execution_count": 182,
      "metadata": {
        "id": "pp8QnS0IK5Du"
      },
      "outputs": [],
      "source": [
        "import numpy as np\n",
        "import cv2\n",
        "import matplotlib.pyplot as plt\n",
        "import ipywidgets as widgets\n",
        "import IPython.display\n",
        "import pydicom as pd\n",
        "from pydicom.dataset import FileDataset, FileMetaDataset, validate_file_meta\n",
        "from pydicom.uid import UID, generate_uid\n",
        "from ipywidgets import interact"
      ]
    },
    {
      "cell_type": "code",
      "source": [
        "def circle_coords(angle_shift, angle_range, count, radius=1, center=(0, 0)):\n",
        "    angles = np.linspace(0, angle_range, count) + angle_shift\n",
        "    cx, cy = center\n",
        "    x = radius * np.cos(angles) - cx\n",
        "    y = radius * np.sin(angles) - cy\n",
        "    points = np.array(list(zip(x, y)))\n",
        "    return np.floor(points).astype(int)\n",
        "\n",
        "def detector_coords(alpha, angle_range, count, radius=1, center=(0,0)):\n",
        "    return circle_coords(np.radians(alpha - angle_range/2), np.radians(angle_range), count, radius, center)\n",
        "\n",
        "def emitter_coords(alpha, angle_range, count, radius=1, center=(0,0)):\n",
        "    return circle_coords(np.radians(alpha - angle_range/2 + 180), np.radians(angle_range), count, radius, center)[::-1]"
      ],
      "metadata": {
        "id": "aQAUGvMJYL1D"
      },
      "execution_count": 183,
      "outputs": []
    },
    {
      "cell_type": "code",
      "source": [
        "def bresenham(x0, y0, x1, y1):\n",
        "    if abs(y1 - y0) > abs(x1 - x0):\n",
        "        swapped = True\n",
        "        x0, y0, x1, y1 = y0, x0, y1, x1\n",
        "    else:\n",
        "        swapped = False\n",
        "    m = (y1 - y0) / (x1 - x0) if x1 - x0 != 0 else 1\n",
        "    q = y0 - m * x0\n",
        "    if x0 < x1:\n",
        "        xs = np.arange(np.floor(x0), np.ceil(x1) + 1, +1, dtype=int)\n",
        "    else:\n",
        "        xs = np.arange(np.ceil(x0), np.floor(x1) - 1, -1, dtype=int)\n",
        "    ys = np.round(m * xs + q).astype(int)\n",
        "    if swapped:\n",
        "        xs, ys = ys, xs\n",
        "    return np.array([xs, ys])"
      ],
      "metadata": {
        "id": "FuV83xGfTHjV"
      },
      "execution_count": 184,
      "outputs": []
    },
    {
      "cell_type": "code",
      "source": [
        "print(bresenham(2,2,-1,-1))"
      ],
      "metadata": {
        "colab": {
          "base_uri": "https://localhost:8080/"
        },
        "id": "v91fRqZtof63",
        "outputId": "03fd007b-1db8-49d7-87e8-861c3aeeddbf"
      },
      "execution_count": 185,
      "outputs": [
        {
          "output_type": "stream",
          "name": "stdout",
          "text": [
            "[[ 2  1  0 -1]\n",
            " [ 2  1  0 -1]]\n"
          ]
        }
      ]
    },
    {
      "cell_type": "code",
      "source": [
        "def draw_lines(emitters, detectors):\n",
        "  lines = list()\n",
        "  for (x0, y0), (x1, y1) in zip(emitters, detectors):\n",
        "    lines.append(np.array(bresenham(x0, y0, x1, y1)))\n",
        "  return lines"
      ],
      "metadata": {
        "id": "d4qwreOXYHa9"
      },
      "execution_count": 186,
      "outputs": []
    },
    {
      "cell_type": "code",
      "source": [
        "number_of_scans = 360\n",
        "number_of_detectors = 700\n",
        "angle_range = 270"
      ],
      "metadata": {
        "id": "f-YhSH2jXl_4"
      },
      "execution_count": 187,
      "outputs": []
    },
    {
      "cell_type": "code",
      "source": [
        "def set_params(scans, detectors, angle):\n",
        "  number_of_scans = scans\n",
        "  number_of_detectors = detectors\n",
        "  angle_range = angle"
      ],
      "metadata": {
        "id": "7SoiG2LFmgcJ"
      },
      "execution_count": 188,
      "outputs": []
    },
    {
      "cell_type": "code",
      "source": [
        "interact(set_params, scans=(90,720,90), detectors=(90,720,90), angle=(45,270,45));"
      ],
      "metadata": {
        "colab": {
          "base_uri": "https://localhost:8080/",
          "height": 113,
          "referenced_widgets": [
            "914021fbfe8d4197bbea2aa5b0419bcb",
            "c07184f33b4d41838868957f0106e2f6",
            "171ac8dfdab9425b898107257ed437f5",
            "287a70f9e8f3460a96310bd56fca0857",
            "409045183dbb458ca977fa380471f221",
            "3e6b76ae679b43f4880f242115c4d44f",
            "63a4db5f3ddf405b8911d20f3de7a8d7",
            "79e43c21db17405e89697bad6ce86bcb",
            "7362dcfc2ecd4592b449ac49d2671dfa",
            "b41ce9e43453496a800c485a3283784b",
            "c7b10e27ee5b48fe96b0438ab2aa57cf",
            "6b0a385195db47dd81d2099443763681",
            "ff868a060ff14990a6e68d32c7e5003b"
          ]
        },
        "id": "mN4K1Bh5nmC4",
        "outputId": "b4219ab4-f4db-4e41-eff0-15fa44e6b7f4"
      },
      "execution_count": 189,
      "outputs": [
        {
          "output_type": "display_data",
          "data": {
            "text/plain": [
              "interactive(children=(IntSlider(value=360, description='scans', max=720, min=90, step=90), IntSlider(value=360…"
            ],
            "application/vnd.jupyter.widget-view+json": {
              "version_major": 2,
              "version_minor": 0,
              "model_id": "914021fbfe8d4197bbea2aa5b0419bcb"
            }
          },
          "metadata": {}
        }
      ]
    },
    {
      "cell_type": "code",
      "source": [
        "image = cv2.imread('sad.JPG', cv2.IMREAD_GRAYSCALE)\n",
        "plt.imshow(image, cmap='gray');"
      ],
      "metadata": {
        "id": "Wt_5QddCPKZc",
        "colab": {
          "base_uri": "https://localhost:8080/",
          "height": 269
        },
        "outputId": "ad530526-f1d1-4f21-ff2f-3223eab289c1"
      },
      "execution_count": 207,
      "outputs": [
        {
          "output_type": "display_data",
          "data": {
            "text/plain": [
              "<Figure size 432x288 with 1 Axes>"
            ],
            "image/png": "[encoded data removed]"
          },
          "metadata": {
            "needs_background": "light"
          }
        }
      ]
    },
    {
      "cell_type": "code",
      "source": [
        "def image_pad(array):\n",
        "    w, h = array.shape\n",
        "    side = int(np.ceil((w**2 + h**2)**0.5))\n",
        "    shape = (side, side)\n",
        "    pad = (np.array(shape) - np.array(array.shape)) / 2\n",
        "    pad = np.array([np.floor(pad), np.ceil(pad)]).T.astype(int)\n",
        "    return np.pad(array, pad)\n",
        "\n",
        "def rescale(array):\n",
        "    res = array.astype('float32')\n",
        "    res -= np.min(res)\n",
        "    res /= np.max(res)\n",
        "    return res\n",
        "\n",
        "def unpad(img, height, width):\n",
        "    y,x = img.shape\n",
        "    startx = x//2-(width//2)\n",
        "    starty = y//2-(height//2)    \n",
        "    return img[starty:starty+height,startx:startx+width]"
      ],
      "metadata": {
        "id": "S-4sdOvDGQ7B"
      },
      "execution_count": 191,
      "outputs": []
    },
    {
      "cell_type": "code",
      "source": [
        "def radon(detector_count, angle_range, image, radius, center, alpha):\n",
        "    emitters = emitter_coords(alpha, angle_range, detector_count, radius, center)\n",
        "    detectors = detector_coords(alpha, angle_range, detector_count, radius, center)\n",
        "    lines = draw_lines(emitters, detectors)\n",
        "    result = rescale(np.array([np.sum(image[tuple(line)]) for line in lines]))\n",
        "    return result\n",
        "\n",
        "def radon_all(image, scan_count, detector_count, angle_range):\n",
        "    image = image_pad(image)\n",
        "    center = np.floor(np.array(image.shape) / 2).astype(int)\n",
        "    width = height = image.shape[0]\n",
        "    radius = width // 2\n",
        "    alphas = np.linspace(0, 180, scan_count)\n",
        "    results = np.zeros((scan_count, detector_count))\n",
        "    \n",
        "    plt.figure()\n",
        "    for i, alpha in enumerate(alphas):\n",
        "        results[i] = radon(detector_count, angle_range, image, radius, center, alpha)\n",
        "        sins.append(np.copy(np.swapaxes(results,0,1)))\n",
        "        plt.imshow(np.swapaxes(results,0,1), cmap=plt.cm.Greys_r)\n",
        "        plt.show()\n",
        "        IPython.display.clear_output(wait=True)\n",
        "        \n",
        "    return np.swapaxes(results,0,1)"
      ],
      "metadata": {
        "id": "XNZgJchFpT1D"
      },
      "execution_count": 192,
      "outputs": []
    },
    {
      "cell_type": "code",
      "source": [
        "sins = []\n",
        "sinogram = radon_all(image, number_of_scans, number_of_detectors, angle_range)"
      ],
      "metadata": {
        "colab": {
          "base_uri": "https://localhost:8080/",
          "height": 269
        },
        "id": "_vfYKrWWqiyy",
        "outputId": "c05a6850-4ab1-456b-f4ff-8ea1c218ac93"
      },
      "execution_count": 205,
      "outputs": [
        {
          "output_type": "display_data",
          "data": {
            "text/plain": [
              "<Figure size 432x288 with 1 Axes>"
            ],
            "image/png": "[encoded data removed]"
          },
          "metadata": {
            "needs_background": "light"
          }
        }
      ]
    },
    {
      "cell_type": "code",
      "source": [
        "def plot_sinogram(i):\n",
        "  plt.imshow(sins[i], cmap='gray');"
      ],
      "metadata": {
        "id": "DsfT6l_mouP6"
      },
      "execution_count": 194,
      "outputs": []
    },
    {
      "cell_type": "code",
      "source": [
        "interact(plot_sinogram, i=(0,len(sins)-1));"
      ],
      "metadata": {
        "colab": {
          "base_uri": "https://localhost:8080/",
          "height": 301,
          "referenced_widgets": [
            "5388d2e51d864105b6cf5298c61601dd",
            "8123406eecf143d9bc4e633e716441db",
            "ef0e80692c1340e7a2b000e47cd109fc",
            "bd6cd63c46af421793d7e98e8a11f6cc",
            "5352ccd3845b4322b373771d5cc98edf",
            "970004f8e62c4ab5b09bf8816177d2b3",
            "ca47413f7b45471ca3ee1e8b3d162151"
          ]
        },
        "id": "a57JPT-Bo3gy",
        "outputId": "44cbe3ae-cae9-4d53-b548-dda6e60a27b9"
      },
      "execution_count": 195,
      "outputs": [
        {
          "output_type": "display_data",
          "data": {
            "text/plain": [
              "interactive(children=(IntSlider(value=179, description='i', max=359), Output()), _dom_classes=('widget-interac…"
            ],
            "application/vnd.jupyter.widget-view+json": {
              "version_major": 2,
              "version_minor": 0,
              "model_id": "5388d2e51d864105b6cf5298c61601dd"
            }
          },
          "metadata": {}
        }
      ]
    },
    {
      "cell_type": "code",
      "source": [
        "def inverse_radon(image, num_of_lines, single_alpha_sinogram, alpha, detector_count, angle_range, radius, center):\n",
        "    emitters = emitter_coords(alpha, angle_range, detector_count, radius, center)\n",
        "    detectors = detector_coords(alpha, angle_range, detector_count, radius, center)\n",
        "    lines = draw_lines(emitters, detectors)\n",
        "    for i, line in enumerate(lines):\n",
        "        image[tuple(line)] += single_alpha_sinogram[i]\n",
        "        num_of_lines[tuple(line)] += 1\n",
        "\n",
        "def inverse_radon_all(shape, sinogram, angle_range, pad=True):\n",
        "    number_of_detectors, number_of_scans = sinogram.shape\n",
        "    sinogram = np.swapaxes(sinogram,0,1)\n",
        "    \n",
        "    result = np.zeros(shape)\n",
        "    result = image_pad(result)\n",
        "    num_of_lines = np.zeros(result.shape)\n",
        "    \n",
        "    center = np.floor(np.array(result.shape) / 2).astype(int)\n",
        "    width = height = result.shape[0]\n",
        "    radius = width // 2\n",
        "    alphas = np.linspace(0, 180, number_of_scans)\n",
        "    \n",
        "    for i, alpha in enumerate(alphas):\n",
        "        inverse_radon(result, num_of_lines, sinogram[i], alpha, number_of_detectors, angle_range, radius, center)\n",
        "        out.append(np.copy(result))\n",
        "        plt.imshow(result, cmap=plt.cm.Greys_r)\n",
        "        plt.show()\n",
        "        IPython.display.clear_output(wait=True)\n",
        "    \n",
        "    num_of_lines[num_of_lines == 0] = 1\n",
        "    result = rescale(result / num_of_lines)\n",
        "    out.append(np.copy(result))\n",
        "    result = unpad(result, *shape)\n",
        "    return result"
      ],
      "metadata": {
        "id": "zCRveAJrqkkE"
      },
      "execution_count": 196,
      "outputs": []
    },
    {
      "cell_type": "code",
      "source": [
        "out = []\n",
        "output = inverse_radon_all(image.shape, sinogram, angle_range)"
      ],
      "metadata": {
        "colab": {
          "base_uri": "https://localhost:8080/",
          "height": 269
        },
        "id": "IU1Js18ar39f",
        "outputId": "67b2cc40-ca49-401c-ea21-7a6ca84adc32"
      },
      "execution_count": 206,
      "outputs": [
        {
          "output_type": "display_data",
          "data": {
            "text/plain": [
              "<Figure size 432x288 with 1 Axes>"
            ],
            "image/png": "[encoded data removed]"
          },
          "metadata": {
            "needs_background": "light"
          }
        }
      ]
    },
    {
      "cell_type": "code",
      "source": [
        "def plot_inverse(i):\n",
        "  plt.imshow(out[i], cmap=\"gray\");"
      ],
      "metadata": {
        "id": "NPC9bV6vrXEJ"
      },
      "execution_count": 198,
      "outputs": []
    },
    {
      "cell_type": "code",
      "source": [
        "interact(plot_inverse, i=(0,len(out)-1));"
      ],
      "metadata": {
        "colab": {
          "base_uri": "https://localhost:8080/",
          "height": 301,
          "referenced_widgets": [
            "aaaf080d498f4a5baa5c048fad12f88c",
            "612e371bc2fa44c28b849ce8712e1f52",
            "4fce4e967e6f4c228a91accdf077e653",
            "cfb6cc4f33d54892976bf22f26d462be",
            "f3d5b2c1ad404a748ea100895deedd66",
            "9bac14e6518840e38a4cb357a2251926",
            "7154f89d2c03403fbfe6f7c21bc51c7f"
          ]
        },
        "id": "sGUM4WRErgu_",
        "outputId": "7c86b761-9297-41ae-be5f-e3e2c2379e1b"
      },
      "execution_count": 199,
      "outputs": [
        {
          "output_type": "display_data",
          "data": {
            "text/plain": [
              "interactive(children=(IntSlider(value=180, description='i', max=360), Output()), _dom_classes=('widget-interac…"
            ],
            "application/vnd.jupyter.widget-view+json": {
              "version_major": 2,
              "version_minor": 0,
              "model_id": "aaaf080d498f4a5baa5c048fad12f88c"
            }
          },
          "metadata": {}
        }
      ]
    },
    {
      "cell_type": "code",
      "source": [
        "def dicom_read(file):\n",
        "  dicom = pd.dcmread(file)\n",
        "  print(dicom)\n",
        "  plt.imshow(np.array(dicom.pixel_array).astype(np.uint8), cmap='gray');\n",
        "  #print(np.array(dicom.pixel_array))\n",
        "\n",
        "def dicom_write(file, data):\n",
        "  file_meta = FileMetaDataset()\n",
        "  file_meta.MediaStorageSOPClassUID = UID('1.2.840.10008.5.1.4.1.1.2')\n",
        "  file_meta.MediaStorageSOPInstanceUID = generate_uid()\n",
        "  file_meta.ImplementationClassUID = generate_uid()\n",
        "  file_meta.TransferSyntaxUID = UID('1.2.840.10008.1.2.1')\n",
        "\n",
        "  ds = FileDataset(file, {}, file_meta=file_meta, preamble=b'\\0'*128)\n",
        "  ds.PatientName = data['name']\n",
        "  ds.PatientID = data['id']\n",
        "  ds.is_little_endian = True\n",
        "  ds.is_implicit_VR = False\n",
        "  ds.StudyDate = data['date'] #.strftime('%Y%m%d')\n",
        "\n",
        "  ds.SeriesInstanceUID = generate_uid()\n",
        "  ds.StudyInstanceUID = generate_uid()\n",
        "  ds.FrameOfReferenceUID = generate_uid()\n",
        "\n",
        "  ds.BitsStored = 8\n",
        "  ds.BitsAllocated = 8\n",
        "  ds.SamplesPerPixel = 1\n",
        "  ds.HighBit = 7\n",
        "\n",
        "  ds.ImagesInAcquisition = '1'\n",
        "  ds.Rows = data['image'].shape[0]\n",
        "  ds.Columns = data['image'].shape[1]\n",
        "  ds.InstanceNumber = 1\n",
        "\n",
        "  ds.ImageType = r'ORIGINAL\\PRIMARY\\AXIAL'\n",
        "\n",
        "  ds.RescaleIntercept = '0'\n",
        "  ds.RescaleSlope = '1'\n",
        "  ds.PixelSpacing = r'1\\1'\n",
        "  ds.PhotometricInterpretation = 'MONOCHROME2'\n",
        "  ds.PixelRepresentation = 0\n",
        "\n",
        "  ds.ImageComments = data['comment']\n",
        "  ds.PixelData = (data['image']).astype(np.uint8).tobytes()\n",
        "\n",
        "  validate_file_meta(ds.file_meta, enforce_standard=True)\n",
        "\n",
        "  ds.save_as(file, write_like_original=False)\n",
        "  print('File created')\n",
        "  dicom_read(file)"
      ],
      "metadata": {
        "id": "NA39jCX4tqag"
      },
      "execution_count": 200,
      "outputs": []
    },
    {
      "cell_type": "code",
      "source": [
        "#dicom_read('Kwadraty2.dcm')\n",
        "\n",
        "patient_data = {\n",
        "    'name' : 'Example^Man',\n",
        "    'id' : '123',\n",
        "    'date' : '20220329',\n",
        "    'image' : input_image,\n",
        "    'comment' : 'Lorem Ipsum',\n",
        "}\n",
        "\n",
        "dicom_write('New.dcm', patient_data)"
      ],
      "metadata": {
        "colab": {
          "base_uri": "https://localhost:8080/",
          "height": 857
        },
        "id": "955MWZG8u546",
        "outputId": "fb44f141-2d07-4005-d4e2-c27e01ded6f3"
      },
      "execution_count": 201,
      "outputs": [
        {
          "output_type": "stream",
          "name": "stdout",
          "text": [
            "File created\n",
            "Dataset.file_meta -------------------------------\n",
            "(0002, 0000) File Meta Information Group Length  UL: 242\n",
            "(0002, 0001) File Meta Information Version       OB: b'\\x00\\x01'\n",
            "(0002, 0002) Media Storage SOP Class UID         UI: CT Image Storage\n",
            "(0002, 0003) Media Storage SOP Instance UID      UI: 1.2.826.0.1.3680043.8.498.30872849027473524687199541074915522566\n",
            "(0002, 0010) Transfer Syntax UID                 UI: Explicit VR Little Endian\n",
            "(0002, 0012) Implementation Class UID            UI: 1.2.826.0.1.3680043.8.498.12163694921697964195595573271754036858\n",
            "(0002, 0013) Implementation Version Name         SH: 'PYDICOM 2.3.0'\n",
            "-------------------------------------------------\n",
            "(0008, 0008) Image Type                          CS: ['ORIGINAL', 'PRIMARY', 'AXIAL']\n",
            "(0008, 0020) Study Date                          DA: '20220329'\n",
            "(0010, 0010) Patient's Name                      PN: 'Example^Man'\n",
            "(0010, 0020) Patient ID                          LO: '123'\n",
            "(0020, 000d) Study Instance UID                  UI: 1.2.826.0.1.3680043.8.498.63576884981556918616717092032093135437\n",
            "(0020, 000e) Series Instance UID                 UI: 1.2.826.0.1.3680043.8.498.53503421236957382940949170905161848631\n",
            "(0020, 0013) Instance Number                     IS: '1'\n",
            "(0020, 0052) Frame of Reference UID              UI: 1.2.826.0.1.3680043.8.498.19218672369354154041957754980021062059\n",
            "(0020, 1002) Images in Acquisition               IS: '1'\n",
            "(0020, 4000) Image Comments                      LT: 'Lorem Ipsum'\n",
            "(0028, 0002) Samples per Pixel                   US: 1\n",
            "(0028, 0004) Photometric Interpretation          CS: 'MONOCHROME2'\n",
            "(0028, 0010) Rows                                US: 384\n",
            "(0028, 0011) Columns                             US: 384\n",
            "(0028, 0030) Pixel Spacing                       DS: [1, 1]\n",
            "(0028, 0100) Bits Allocated                      US: 8\n",
            "(0028, 0101) Bits Stored                         US: 8\n",
            "(0028, 0102) High Bit                            US: 7\n",
            "(0028, 0103) Pixel Representation                US: 0\n",
            "(0028, 1052) Rescale Intercept                   DS: '0.0'\n",
            "(0028, 1053) Rescale Slope                       DS: '1.0'\n",
            "(7fe0, 0010) Pixel Data                          OB: Array of 147456 elements\n"
          ]
        },
        {
          "output_type": "display_data",
          "data": {
            "text/plain": [
              "<Figure size 432x288 with 1 Axes>"
            ],
            "image/png": "[encoded data removed]"
          },
          "metadata": {
            "needs_background": "light"
          }
        }
      ]
    }
  ]
}